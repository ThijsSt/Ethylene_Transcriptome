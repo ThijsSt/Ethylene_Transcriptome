{
 "cells": [
  {
   "cell_type": "markdown",
   "id": "ddc01f7b",
   "metadata": {},
   "source": [
    "### Mfuzz\n",
    "Mfuzz is meant to cluster based on expression profile data. This way, we can look for expressed clusters of data. \n"
   ]
  },
  {
   "cell_type": "code",
   "execution_count": 8,
   "id": "87c0eb3b",
   "metadata": {},
   "outputs": [
    {
     "ename": "ERROR",
     "evalue": "Error in library(mfuzz): there is no package called ‘mfuzz’\n",
     "output_type": "error",
     "traceback": [
      "Error in library(mfuzz): there is no package called ‘mfuzz’\nTraceback:\n",
      "1. library(mfuzz)"
     ]
    }
   ],
   "source": [
    "#load modules\n",
    "library(Mfuzz)\n",
    "DATAPATH='../Results/Ethylene_transcriptomics/Ethylene_treatment_data/counts'\n",
    "#assign objects\n",
    "#first normalise the gene counts\n"
   ]
  },
  {
   "cell_type": "code",
   "execution_count": null,
   "id": "da404660",
   "metadata": {},
   "outputs": [],
   "source": [
    "#then make sure to preprocess the data; start by removing the data which is incomplete\n",
    "(<dataname>_F)<- filter.NA(<dataname>)\n",
    "#\n",
    "(<dataname>_F)<- fill.NA(<dataname>) #suggest using the knn method?\n",
    "(<dataname>_F)<- standardise(<dataname>)"
   ]
  },
  {
   "cell_type": "code",
   "execution_count": null,
   "id": "393236c5",
   "metadata": {},
   "outputs": [],
   "source": [
    "#soft clustering and visualisation\n",
    "cl <- mfuzz(<dataname>_F,c=10,m=1.25)\n",
    "mfuzz.plot(yeastF,cl=cl,mfrow=c(2,2))"
   ]
  },
  {
   "cell_type": "code",
   "execution_count": null,
   "id": "a5e12a30",
   "metadata": {},
   "outputs": [],
   "source": [
    "#check for random data clustering\n"
   ]
  },
  {
   "cell_type": "code",
   "execution_count": null,
   "id": "3ddfc241",
   "metadata": {},
   "outputs": [],
   "source": [
    "# Plotting center of cluster 1 \n",
    "X11(); plot(cl[[1]][1,],type=\"l\",ylab=\"Expression\") "
   ]
  },
  {
   "cell_type": "code",
   "execution_count": null,
   "id": "3cf15461",
   "metadata": {},
   "outputs": [],
   "source": [
    "# Getting the membership values for the first 10 genes in cluster 1\n",
    "cl[[4]][1:10,1] "
   ]
  }
 ],
 "metadata": {
  "kernelspec": {
   "display_name": "R",
   "language": "R",
   "name": "ir"
  },
  "language_info": {
   "codemirror_mode": "r",
   "file_extension": ".r",
   "mimetype": "text/x-r-source",
   "name": "R",
   "pygments_lexer": "r",
   "version": "4.2.0"
  }
 },
 "nbformat": 4,
 "nbformat_minor": 5
}
